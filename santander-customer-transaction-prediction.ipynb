{
 "cells": [
  {
   "cell_type": "code",
   "execution_count": 1,
   "id": "8e14655a",
   "metadata": {
    "_cell_guid": "b1076dfc-b9ad-4769-8c92-a6c4dae69d19",
    "_uuid": "8f2839f25d086af736a60e9eeb907d3b93b6e0e5",
    "execution": {
     "iopub.execute_input": "2024-07-14T07:14:58.311596Z",
     "iopub.status.busy": "2024-07-14T07:14:58.310773Z",
     "iopub.status.idle": "2024-07-14T07:14:59.080283Z",
     "shell.execute_reply": "2024-07-14T07:14:59.079360Z"
    },
    "papermill": {
     "duration": 0.78059,
     "end_time": "2024-07-14T07:14:59.082527",
     "exception": false,
     "start_time": "2024-07-14T07:14:58.301937",
     "status": "completed"
    },
    "tags": []
   },
   "outputs": [
    {
     "name": "stdout",
     "output_type": "stream",
     "text": [
      "/kaggle/input/santander-customer-transaction-prediction/sample_submission.csv\n",
      "/kaggle/input/santander-customer-transaction-prediction/train.csv\n",
      "/kaggle/input/santander-customer-transaction-prediction/test.csv\n"
     ]
    }
   ],
   "source": [
    "# This Python 3 environment comes with many helpful analytics libraries installed\n",
    "# It is defined by the kaggle/python Docker image: https://github.com/kaggle/docker-python\n",
    "# For example, here's several helpful packages to load\n",
    "\n",
    "import numpy as np # linear algebra\n",
    "import pandas as pd # data processing, CSV file I/O (e.g. pd.read_csv)\n",
    "\n",
    "# Input data files are available in the read-only \"../input/\" directory\n",
    "# For example, running this (by clicking run or pressing Shift+Enter) will list all files under the input directory\n",
    "\n",
    "import os\n",
    "for dirname, _, filenames in os.walk('/kaggle/input'):\n",
    "    for filename in filenames:\n",
    "        print(os.path.join(dirname, filename))\n",
    "\n",
    "# You can write up to 20GB to the current directory (/kaggle/working/) that gets preserved as output when you create a version using \"Save & Run All\" \n",
    "# You can also write temporary files to /kaggle/temp/, but they won't be saved outside of the current session"
   ]
  },
  {
   "cell_type": "code",
   "execution_count": 2,
   "id": "15893c94",
   "metadata": {
    "execution": {
     "iopub.execute_input": "2024-07-14T07:14:59.096534Z",
     "iopub.status.busy": "2024-07-14T07:14:59.095666Z",
     "iopub.status.idle": "2024-07-14T07:15:18.527375Z",
     "shell.execute_reply": "2024-07-14T07:15:18.526521Z"
    },
    "papermill": {
     "duration": 19.44115,
     "end_time": "2024-07-14T07:15:18.529788",
     "exception": false,
     "start_time": "2024-07-14T07:14:59.088638",
     "status": "completed"
    },
    "tags": []
   },
   "outputs": [],
   "source": [
    "sct=pd.read_csv('/kaggle/input/santander-customer-transaction-prediction/train.csv')\n",
    "sct_new=pd.read_csv('/kaggle/input/santander-customer-transaction-prediction/test.csv')"
   ]
  },
  {
   "cell_type": "code",
   "execution_count": 3,
   "id": "de068be6",
   "metadata": {
    "execution": {
     "iopub.execute_input": "2024-07-14T07:15:18.543976Z",
     "iopub.status.busy": "2024-07-14T07:15:18.543681Z",
     "iopub.status.idle": "2024-07-14T07:15:18.577328Z",
     "shell.execute_reply": "2024-07-14T07:15:18.576269Z"
    },
    "papermill": {
     "duration": 0.04301,
     "end_time": "2024-07-14T07:15:18.579409",
     "exception": false,
     "start_time": "2024-07-14T07:15:18.536399",
     "status": "completed"
    },
    "tags": []
   },
   "outputs": [
    {
     "name": "stdout",
     "output_type": "stream",
     "text": [
      "<class 'pandas.core.frame.DataFrame'>\n",
      "RangeIndex: 200000 entries, 0 to 199999\n",
      "Columns: 202 entries, ID_code to var_199\n",
      "dtypes: float64(200), int64(1), object(1)\n",
      "memory usage: 308.2+ MB\n"
     ]
    }
   ],
   "source": [
    "sct.info()"
   ]
  },
  {
   "cell_type": "code",
   "execution_count": 4,
   "id": "93e7f398",
   "metadata": {
    "execution": {
     "iopub.execute_input": "2024-07-14T07:15:18.592920Z",
     "iopub.status.busy": "2024-07-14T07:15:18.592640Z",
     "iopub.status.idle": "2024-07-14T07:15:18.597329Z",
     "shell.execute_reply": "2024-07-14T07:15:18.596431Z"
    },
    "papermill": {
     "duration": 0.013731,
     "end_time": "2024-07-14T07:15:18.599375",
     "exception": false,
     "start_time": "2024-07-14T07:15:18.585644",
     "status": "completed"
    },
    "tags": []
   },
   "outputs": [
    {
     "name": "stdout",
     "output_type": "stream",
     "text": [
      "Index(['ID_code', 'target', 'var_0', 'var_1', 'var_2', 'var_3', 'var_4',\n",
      "       'var_5', 'var_6', 'var_7',\n",
      "       ...\n",
      "       'var_190', 'var_191', 'var_192', 'var_193', 'var_194', 'var_195',\n",
      "       'var_196', 'var_197', 'var_198', 'var_199'],\n",
      "      dtype='object', length=202)\n"
     ]
    }
   ],
   "source": [
    "print(sct.columns)"
   ]
  },
  {
   "cell_type": "code",
   "execution_count": 5,
   "id": "dd2057a0",
   "metadata": {
    "execution": {
     "iopub.execute_input": "2024-07-14T07:15:18.612805Z",
     "iopub.status.busy": "2024-07-14T07:15:18.612553Z",
     "iopub.status.idle": "2024-07-14T07:15:18.623364Z",
     "shell.execute_reply": "2024-07-14T07:15:18.622541Z"
    },
    "papermill": {
     "duration": 0.019776,
     "end_time": "2024-07-14T07:15:18.625309",
     "exception": false,
     "start_time": "2024-07-14T07:15:18.605533",
     "status": "completed"
    },
    "tags": []
   },
   "outputs": [
    {
     "data": {
      "text/plain": [
       "target\n",
       "0    179902\n",
       "1     20098\n",
       "Name: count, dtype: int64"
      ]
     },
     "execution_count": 5,
     "metadata": {},
     "output_type": "execute_result"
    }
   ],
   "source": [
    "sct['target'].value_counts()"
   ]
  },
  {
   "cell_type": "code",
   "execution_count": 6,
   "id": "5477cf6d",
   "metadata": {
    "execution": {
     "iopub.execute_input": "2024-07-14T07:15:18.640198Z",
     "iopub.status.busy": "2024-07-14T07:15:18.639581Z",
     "iopub.status.idle": "2024-07-14T07:15:18.785316Z",
     "shell.execute_reply": "2024-07-14T07:15:18.784403Z"
    },
    "papermill": {
     "duration": 0.155147,
     "end_time": "2024-07-14T07:15:18.787546",
     "exception": false,
     "start_time": "2024-07-14T07:15:18.632399",
     "status": "completed"
    },
    "tags": []
   },
   "outputs": [
    {
     "data": {
      "text/plain": [
       "ID_code\n",
       "train_199960    1\n",
       "train_199961    1\n",
       "train_199962    1\n",
       "train_199963    1\n",
       "train_199964    1\n",
       "               ..\n",
       "train_3         1\n",
       "train_4         1\n",
       "train_5         1\n",
       "train_6         1\n",
       "train_7         1\n",
       "Name: count, Length: 200000, dtype: int64"
      ]
     },
     "execution_count": 6,
     "metadata": {},
     "output_type": "execute_result"
    }
   ],
   "source": [
    "sct['ID_code'].value_counts()"
   ]
  },
  {
   "cell_type": "code",
   "execution_count": 7,
   "id": "e242a920",
   "metadata": {
    "execution": {
     "iopub.execute_input": "2024-07-14T07:15:18.803854Z",
     "iopub.status.busy": "2024-07-14T07:15:18.803218Z",
     "iopub.status.idle": "2024-07-14T07:15:18.826454Z",
     "shell.execute_reply": "2024-07-14T07:15:18.825590Z"
    },
    "papermill": {
     "duration": 0.033932,
     "end_time": "2024-07-14T07:15:18.828400",
     "exception": false,
     "start_time": "2024-07-14T07:15:18.794468",
     "status": "completed"
    },
    "tags": []
   },
   "outputs": [
    {
     "data": {
      "text/plain": [
       "var_0\n",
       "13.0656    11\n",
       "8.6649     11\n",
       "10.6829    11\n",
       "9.5114     10\n",
       "10.9468    10\n",
       "           ..\n",
       "9.1800      1\n",
       "7.3502      1\n",
       "11.5106     1\n",
       "14.5987     1\n",
       "14.1869     1\n",
       "Name: count, Length: 94672, dtype: int64"
      ]
     },
     "execution_count": 7,
     "metadata": {},
     "output_type": "execute_result"
    }
   ],
   "source": [
    "sct['var_0'].value_counts()"
   ]
  },
  {
   "cell_type": "code",
   "execution_count": 8,
   "id": "b6d2d22a",
   "metadata": {
    "execution": {
     "iopub.execute_input": "2024-07-14T07:15:18.843576Z",
     "iopub.status.busy": "2024-07-14T07:15:18.843323Z",
     "iopub.status.idle": "2024-07-14T07:15:18.864018Z",
     "shell.execute_reply": "2024-07-14T07:15:18.863109Z"
    },
    "papermill": {
     "duration": 0.030638,
     "end_time": "2024-07-14T07:15:18.866019",
     "exception": false,
     "start_time": "2024-07-14T07:15:18.835381",
     "status": "completed"
    },
    "tags": []
   },
   "outputs": [
    {
     "data": {
      "text/plain": [
       "var_1\n",
       "-2.4313    10\n",
       "-2.1515    10\n",
       "-1.1853    10\n",
       "-2.5753    10\n",
       "-7.2808     9\n",
       "           ..\n",
       " 0.6422     1\n",
       "-9.9800     1\n",
       " 2.6562     1\n",
       "-0.7863     1\n",
       "-7.9881     1\n",
       "Name: count, Length: 108932, dtype: int64"
      ]
     },
     "execution_count": 8,
     "metadata": {},
     "output_type": "execute_result"
    }
   ],
   "source": [
    "sct['var_1'].value_counts()"
   ]
  },
  {
   "cell_type": "code",
   "execution_count": 9,
   "id": "40ce78e9",
   "metadata": {
    "execution": {
     "iopub.execute_input": "2024-07-14T07:15:18.881399Z",
     "iopub.status.busy": "2024-07-14T07:15:18.881110Z",
     "iopub.status.idle": "2024-07-14T07:15:18.886667Z",
     "shell.execute_reply": "2024-07-14T07:15:18.885876Z"
    },
    "papermill": {
     "duration": 0.015522,
     "end_time": "2024-07-14T07:15:18.888588",
     "exception": false,
     "start_time": "2024-07-14T07:15:18.873066",
     "status": "completed"
    },
    "tags": []
   },
   "outputs": [
    {
     "data": {
      "text/plain": [
       "Index(['ID_code', 'var_0', 'var_1', 'var_2', 'var_3', 'var_4', 'var_5',\n",
       "       'var_6', 'var_7', 'var_8',\n",
       "       ...\n",
       "       'var_190', 'var_191', 'var_192', 'var_193', 'var_194', 'var_195',\n",
       "       'var_196', 'var_197', 'var_198', 'var_199'],\n",
       "      dtype='object', length=201)"
      ]
     },
     "execution_count": 9,
     "metadata": {},
     "output_type": "execute_result"
    }
   ],
   "source": [
    "sct_new.columns"
   ]
  },
  {
   "cell_type": "code",
   "execution_count": 10,
   "id": "ec55224c",
   "metadata": {
    "execution": {
     "iopub.execute_input": "2024-07-14T07:15:18.904024Z",
     "iopub.status.busy": "2024-07-14T07:15:18.903788Z",
     "iopub.status.idle": "2024-07-14T07:15:21.752649Z",
     "shell.execute_reply": "2024-07-14T07:15:21.751803Z"
    },
    "papermill": {
     "duration": 2.859293,
     "end_time": "2024-07-14T07:15:21.755037",
     "exception": false,
     "start_time": "2024-07-14T07:15:18.895744",
     "status": "completed"
    },
    "tags": []
   },
   "outputs": [],
   "source": [
    "from sklearn.model_selection import train_test_split\n",
    "from sklearn.preprocessing import StandardScaler\n",
    "y=sct[['target']]\n",
    "X=sct.drop(['target','ID_code'],axis=1)\n",
    "X_new=sct_new.drop(['ID_code'],axis=1)\n",
    "X_transformed=StandardScaler().fit_transform(X)\n",
    "X_new_transformed=StandardScaler().fit_transform(X_new)\n",
    "X_temp,X_val,y_temp,y_val=train_test_split(X_transformed,y,test_size=0.05,random_state=1)\n",
    "X_train,X_test,y_train,y_test=train_test_split(X_temp,y_temp,test_size=0.05,random_state=2)"
   ]
  },
  {
   "cell_type": "code",
   "execution_count": 11,
   "id": "d475f83f",
   "metadata": {
    "execution": {
     "iopub.execute_input": "2024-07-14T07:15:21.772624Z",
     "iopub.status.busy": "2024-07-14T07:15:21.771861Z",
     "iopub.status.idle": "2024-07-14T07:15:33.606793Z",
     "shell.execute_reply": "2024-07-14T07:15:33.606025Z"
    },
    "papermill": {
     "duration": 11.846148,
     "end_time": "2024-07-14T07:15:33.609115",
     "exception": false,
     "start_time": "2024-07-14T07:15:21.762967",
     "status": "completed"
    },
    "tags": []
   },
   "outputs": [
    {
     "name": "stderr",
     "output_type": "stream",
     "text": [
      "2024-07-14 07:15:23.597730: E external/local_xla/xla/stream_executor/cuda/cuda_dnn.cc:9261] Unable to register cuDNN factory: Attempting to register factory for plugin cuDNN when one has already been registered\n",
      "2024-07-14 07:15:23.597896: E external/local_xla/xla/stream_executor/cuda/cuda_fft.cc:607] Unable to register cuFFT factory: Attempting to register factory for plugin cuFFT when one has already been registered\n",
      "2024-07-14 07:15:23.734615: E external/local_xla/xla/stream_executor/cuda/cuda_blas.cc:1515] Unable to register cuBLAS factory: Attempting to register factory for plugin cuBLAS when one has already been registered\n"
     ]
    }
   ],
   "source": [
    "import tensorflow as tf\n",
    "from tensorflow import keras\n",
    "from keras.layers import Input,Dense,Normalization\n",
    "from keras.optimizers import SGD,AdamW\n",
    "from keras.callbacks import EarlyStopping\n",
    "import keras_tuner as kt"
   ]
  },
  {
   "cell_type": "code",
   "execution_count": 12,
   "id": "a10b8736",
   "metadata": {
    "execution": {
     "iopub.execute_input": "2024-07-14T07:15:33.625625Z",
     "iopub.status.busy": "2024-07-14T07:15:33.625106Z",
     "iopub.status.idle": "2024-07-14T07:15:33.634523Z",
     "shell.execute_reply": "2024-07-14T07:15:33.633703Z"
    },
    "papermill": {
     "duration": 0.019739,
     "end_time": "2024-07-14T07:15:33.636424",
     "exception": false,
     "start_time": "2024-07-14T07:15:33.616685",
     "status": "completed"
    },
    "tags": []
   },
   "outputs": [],
   "source": [
    "def build_model(hp):\n",
    "    n_hidden = hp.Int(\"n_hidden\", min_value=10, max_value=100, default=50)\n",
    "    n_neurons = hp.Int(\"n_neurons\", min_value=16, max_value=256)\n",
    "    learning_rate = hp.Float(\"learning_rate\", min_value=1e-4, max_value=1e-2,sampling=\"log\")\n",
    "    weight_decay=hp.Float(\"weight_decay\", min_value=0.001, max_value=0.01,sampling=\"log\")\n",
    "    optimizer = hp.Choice(\"optimizer\", values=[\"nag\", \"adamw\"])\n",
    "    if optimizer == \"nag\":\n",
    "        optimizer = SGD(learning_rate=learning_rate,momentum=0.9,nesterov=True)\n",
    "    else:\n",
    "        optimizer = AdamW(learning_rate=learning_rate,weight_decay=weight_decay)        \n",
    "    model=keras.Sequential()\n",
    "    model.add(Input(shape=X_train.shape[1:]))\n",
    "    for _ in range(n_hidden):\n",
    "        model.add(Dense(n_neurons, activation=\"swish\",kernel_initializer='he_normal'))\n",
    "    model.add(Dense(1,activation='sigmoid'))\n",
    "    model.compile(loss=\"binary_crossentropy\", optimizer=optimizer,metrics=['accuracy'])\n",
    "    return model"
   ]
  },
  {
   "cell_type": "code",
   "execution_count": 13,
   "id": "8a55374e",
   "metadata": {
    "execution": {
     "iopub.execute_input": "2024-07-14T07:15:33.652124Z",
     "iopub.status.busy": "2024-07-14T07:15:33.651797Z",
     "iopub.status.idle": "2024-07-14T07:33:28.662706Z",
     "shell.execute_reply": "2024-07-14T07:33:28.661796Z"
    },
    "papermill": {
     "duration": 1075.023758,
     "end_time": "2024-07-14T07:33:28.667547",
     "exception": false,
     "start_time": "2024-07-14T07:15:33.643789",
     "status": "completed"
    },
    "tags": []
   },
   "outputs": [
    {
     "name": "stdout",
     "output_type": "stream",
     "text": [
      "Trial 5 Complete [00h 08m 03s]\n",
      "val_accuracy: 0.906000018119812\n",
      "\n",
      "Best val_accuracy So Far: 0.906000018119812\n",
      "Total elapsed time: 00h 17m 53s\n"
     ]
    }
   ],
   "source": [
    "random_search=kt.RandomSearch(build_model,objective='val_accuracy',seed=3,max_trials=5)\n",
    "early_stopping = EarlyStopping(monitor='val_accuracy', patience=5, restore_best_weights=True)\n",
    "try: random_search.search(X_train,y_train,epochs=10,validation_data=(X_val,y_val),callbacks=[early_stopping])\n",
    "except kt.errors.FatalError: print(\"The search is terminated.\")"
   ]
  },
  {
   "cell_type": "code",
   "execution_count": 14,
   "id": "1699fa8c",
   "metadata": {
    "execution": {
     "iopub.execute_input": "2024-07-14T07:33:28.684337Z",
     "iopub.status.busy": "2024-07-14T07:33:28.683995Z",
     "iopub.status.idle": "2024-07-14T07:33:34.375755Z",
     "shell.execute_reply": "2024-07-14T07:33:34.374644Z"
    },
    "papermill": {
     "duration": 5.702685,
     "end_time": "2024-07-14T07:33:34.378255",
     "exception": false,
     "start_time": "2024-07-14T07:33:28.675570",
     "status": "completed"
    },
    "tags": []
   },
   "outputs": [
    {
     "name": "stderr",
     "output_type": "stream",
     "text": [
      "/opt/conda/lib/python3.10/site-packages/keras/src/saving/saving_lib.py:576: UserWarning: Skipping variable loading for optimizer 'SGD', because it has 2 variables whereas the saved optimizer has 66 variables. \n",
      "  saveable.load_own_variables(weights_store.get(inner_path))\n",
      "/opt/conda/lib/python3.10/site-packages/keras/src/saving/saving_lib.py:576: UserWarning: Skipping variable loading for optimizer 'SGD', because it has 2 variables whereas the saved optimizer has 64 variables. \n",
      "  saveable.load_own_variables(weights_store.get(inner_path))\n"
     ]
    },
    {
     "name": "stdout",
     "output_type": "stream",
     "text": [
      "<Sequential name=sequential, built=True>\n"
     ]
    },
    {
     "name": "stderr",
     "output_type": "stream",
     "text": [
      "/opt/conda/lib/python3.10/site-packages/keras/src/saving/saving_lib.py:576: UserWarning: Skipping variable loading for optimizer 'adamw', because it has 2 variables whereas the saved optimizer has 138 variables. \n",
      "  saveable.load_own_variables(weights_store.get(inner_path))\n"
     ]
    }
   ],
   "source": [
    "best_model=random_search.get_best_models(3)[0]\n",
    "print(best_model)"
   ]
  },
  {
   "cell_type": "code",
   "execution_count": 15,
   "id": "61e54382",
   "metadata": {
    "execution": {
     "iopub.execute_input": "2024-07-14T07:33:34.395841Z",
     "iopub.status.busy": "2024-07-14T07:33:34.395112Z",
     "iopub.status.idle": "2024-07-14T07:33:34.400413Z",
     "shell.execute_reply": "2024-07-14T07:33:34.399316Z"
    },
    "papermill": {
     "duration": 0.015971,
     "end_time": "2024-07-14T07:33:34.402337",
     "exception": false,
     "start_time": "2024-07-14T07:33:34.386366",
     "status": "completed"
    },
    "tags": []
   },
   "outputs": [
    {
     "name": "stdout",
     "output_type": "stream",
     "text": [
      "{'n_hidden': 31, 'n_neurons': 72, 'learning_rate': 0.0017611785596585996, 'weight_decay': 0.0062135540967083866, 'optimizer': 'nag'}\n"
     ]
    }
   ],
   "source": [
    "best_hyper=random_search.get_best_hyperparameters(3)[0]\n",
    "print(best_hyper.values)"
   ]
  },
  {
   "cell_type": "code",
   "execution_count": 16,
   "id": "071b31a5",
   "metadata": {
    "execution": {
     "iopub.execute_input": "2024-07-14T07:33:34.419706Z",
     "iopub.status.busy": "2024-07-14T07:33:34.418926Z",
     "iopub.status.idle": "2024-07-14T07:33:34.423804Z",
     "shell.execute_reply": "2024-07-14T07:33:34.422913Z"
    },
    "papermill": {
     "duration": 0.015694,
     "end_time": "2024-07-14T07:33:34.426001",
     "exception": false,
     "start_time": "2024-07-14T07:33:34.410307",
     "status": "completed"
    },
    "tags": []
   },
   "outputs": [
    {
     "name": "stdout",
     "output_type": "stream",
     "text": [
      "Trial 0 summary\n",
      "Hyperparameters:\n",
      "n_hidden: 31\n",
      "n_neurons: 72\n",
      "learning_rate: 0.0017611785596585996\n",
      "weight_decay: 0.0062135540967083866\n",
      "optimizer: nag\n",
      "Score: 0.906000018119812\n"
     ]
    }
   ],
   "source": [
    "best_trial = random_search.oracle.get_best_trials(num_trials=1)[0]\n",
    "best_trial.summary()"
   ]
  },
  {
   "cell_type": "code",
   "execution_count": 17,
   "id": "2c7a027e",
   "metadata": {
    "execution": {
     "iopub.execute_input": "2024-07-14T07:33:34.443611Z",
     "iopub.status.busy": "2024-07-14T07:33:34.442939Z",
     "iopub.status.idle": "2024-07-14T07:34:05.281931Z",
     "shell.execute_reply": "2024-07-14T07:34:05.280816Z"
    },
    "papermill": {
     "duration": 30.84967,
     "end_time": "2024-07-14T07:34:05.283932",
     "exception": false,
     "start_time": "2024-07-14T07:33:34.434262",
     "status": "completed"
    },
    "tags": []
   },
   "outputs": [
    {
     "name": "stdout",
     "output_type": "stream",
     "text": [
      "\u001b[1m5641/5641\u001b[0m \u001b[32m━━━━━━━━━━━━━━━━━━━━\u001b[0m\u001b[37m\u001b[0m \u001b[1m30s\u001b[0m 4ms/step - accuracy: 0.8983 - loss: 0.3289 - val_accuracy: 0.9060 - val_loss: 0.3119\n"
     ]
    },
    {
     "data": {
      "text/plain": [
       "<keras.src.callbacks.history.History at 0x7a353499dfc0>"
      ]
     },
     "execution_count": 17,
     "metadata": {},
     "output_type": "execute_result"
    }
   ],
   "source": [
    "best_model.fit(X_train,y_train,callbacks=[early_stopping],validation_data=(X_val,y_val))"
   ]
  },
  {
   "cell_type": "code",
   "execution_count": 18,
   "id": "7452a179",
   "metadata": {
    "execution": {
     "iopub.execute_input": "2024-07-14T07:34:05.363000Z",
     "iopub.status.busy": "2024-07-14T07:34:05.362422Z",
     "iopub.status.idle": "2024-07-14T07:34:06.611326Z",
     "shell.execute_reply": "2024-07-14T07:34:06.610348Z"
    },
    "papermill": {
     "duration": 1.291171,
     "end_time": "2024-07-14T07:34:06.613507",
     "exception": false,
     "start_time": "2024-07-14T07:34:05.322336",
     "status": "completed"
    },
    "tags": []
   },
   "outputs": [
    {
     "name": "stdout",
     "output_type": "stream",
     "text": [
      "\u001b[1m297/297\u001b[0m \u001b[32m━━━━━━━━━━━━━━━━━━━━\u001b[0m\u001b[37m\u001b[0m \u001b[1m1s\u001b[0m 4ms/step - accuracy: 0.8980 - loss: 0.3296\n"
     ]
    },
    {
     "data": {
      "text/plain": [
       "[0.3243914246559143, 0.9003157615661621]"
      ]
     },
     "execution_count": 18,
     "metadata": {},
     "output_type": "execute_result"
    }
   ],
   "source": [
    "best_model.evaluate(X_test,y_test)"
   ]
  },
  {
   "cell_type": "code",
   "execution_count": 19,
   "id": "6735cb9b",
   "metadata": {
    "execution": {
     "iopub.execute_input": "2024-07-14T07:34:06.694256Z",
     "iopub.status.busy": "2024-07-14T07:34:06.693609Z",
     "iopub.status.idle": "2024-07-14T07:34:24.405716Z",
     "shell.execute_reply": "2024-07-14T07:34:24.404838Z"
    },
    "papermill": {
     "duration": 17.754193,
     "end_time": "2024-07-14T07:34:24.408036",
     "exception": false,
     "start_time": "2024-07-14T07:34:06.653843",
     "status": "completed"
    },
    "tags": []
   },
   "outputs": [
    {
     "name": "stdout",
     "output_type": "stream",
     "text": [
      "\u001b[1m6250/6250\u001b[0m \u001b[32m━━━━━━━━━━━━━━━━━━━━\u001b[0m\u001b[37m\u001b[0m \u001b[1m13s\u001b[0m 2ms/step\n"
     ]
    }
   ],
   "source": [
    "y_pred=best_model.predict(X_new_transformed)"
   ]
  },
  {
   "cell_type": "code",
   "execution_count": 20,
   "id": "91a3fab9",
   "metadata": {
    "execution": {
     "iopub.execute_input": "2024-07-14T07:34:24.527402Z",
     "iopub.status.busy": "2024-07-14T07:34:24.526688Z",
     "iopub.status.idle": "2024-07-14T07:34:24.532297Z",
     "shell.execute_reply": "2024-07-14T07:34:24.531450Z"
    },
    "papermill": {
     "duration": 0.066257,
     "end_time": "2024-07-14T07:34:24.534524",
     "exception": false,
     "start_time": "2024-07-14T07:34:24.468267",
     "status": "completed"
    },
    "tags": []
   },
   "outputs": [
    {
     "name": "stdout",
     "output_type": "stream",
     "text": [
      "[[0.09928376]\n",
      " [0.09929374]\n",
      " [0.09929295]\n",
      " [0.0992899 ]\n",
      " [0.09928681]\n",
      " [0.09928782]\n",
      " [0.09929267]\n",
      " [0.09927862]\n",
      " [0.09928615]\n",
      " [0.09928743]]\n"
     ]
    }
   ],
   "source": [
    "print(y_pred[:10])"
   ]
  },
  {
   "cell_type": "code",
   "execution_count": 21,
   "id": "9be3f861",
   "metadata": {
    "execution": {
     "iopub.execute_input": "2024-07-14T07:34:24.650111Z",
     "iopub.status.busy": "2024-07-14T07:34:24.649834Z",
     "iopub.status.idle": "2024-07-14T07:34:25.108664Z",
     "shell.execute_reply": "2024-07-14T07:34:25.107863Z"
    },
    "papermill": {
     "duration": 0.51941,
     "end_time": "2024-07-14T07:34:25.110912",
     "exception": false,
     "start_time": "2024-07-14T07:34:24.591502",
     "status": "completed"
    },
    "tags": []
   },
   "outputs": [],
   "source": [
    "output=pd.DataFrame({'ID_code':sct_new.ID_code,'target':y_pred.ravel()})\n",
    "output.to_csv('sct_submission.csv',index=False)"
   ]
  },
  {
   "cell_type": "code",
   "execution_count": null,
   "id": "0512e12d",
   "metadata": {
    "papermill": {
     "duration": 0.058368,
     "end_time": "2024-07-14T07:34:25.228105",
     "exception": false,
     "start_time": "2024-07-14T07:34:25.169737",
     "status": "completed"
    },
    "tags": []
   },
   "outputs": [],
   "source": []
  }
 ],
 "metadata": {
  "kaggle": {
   "accelerator": "gpu",
   "dataSources": [
    {
     "databundleVersionId": 298493,
     "sourceId": 10385,
     "sourceType": "competition"
    }
   ],
   "dockerImageVersionId": 30748,
   "isGpuEnabled": true,
   "isInternetEnabled": true,
   "language": "python",
   "sourceType": "notebook"
  },
  "kernelspec": {
   "display_name": "Python 3",
   "language": "python",
   "name": "python3"
  },
  "language_info": {
   "codemirror_mode": {
    "name": "ipython",
    "version": 3
   },
   "file_extension": ".py",
   "mimetype": "text/x-python",
   "name": "python",
   "nbconvert_exporter": "python",
   "pygments_lexer": "ipython3",
   "version": "3.10.13"
  },
  "papermill": {
   "default_parameters": {},
   "duration": 1172.636608,
   "end_time": "2024-07-14T07:34:28.197709",
   "environment_variables": {},
   "exception": null,
   "input_path": "__notebook__.ipynb",
   "output_path": "__notebook__.ipynb",
   "parameters": {},
   "start_time": "2024-07-14T07:14:55.561101",
   "version": "2.5.0"
  }
 },
 "nbformat": 4,
 "nbformat_minor": 5
}
