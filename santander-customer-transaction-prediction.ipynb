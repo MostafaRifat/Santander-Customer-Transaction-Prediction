{
 "cells": [
  {
   "cell_type": "code",
   "execution_count": 1,
   "id": "369f7e3b",
   "metadata": {
    "_cell_guid": "b1076dfc-b9ad-4769-8c92-a6c4dae69d19",
    "_uuid": "8f2839f25d086af736a60e9eeb907d3b93b6e0e5",
    "execution": {
     "iopub.execute_input": "2024-07-14T06:44:06.117490Z",
     "iopub.status.busy": "2024-07-14T06:44:06.117106Z",
     "iopub.status.idle": "2024-07-14T06:44:06.868239Z",
     "shell.execute_reply": "2024-07-14T06:44:06.867345Z"
    },
    "papermill": {
     "duration": 0.761485,
     "end_time": "2024-07-14T06:44:06.870424",
     "exception": false,
     "start_time": "2024-07-14T06:44:06.108939",
     "status": "completed"
    },
    "tags": []
   },
   "outputs": [
    {
     "name": "stdout",
     "output_type": "stream",
     "text": [
      "/kaggle/input/santander-customer-transaction-prediction/sample_submission.csv\n",
      "/kaggle/input/santander-customer-transaction-prediction/train.csv\n",
      "/kaggle/input/santander-customer-transaction-prediction/test.csv\n"
     ]
    }
   ],
   "source": [
    "# This Python 3 environment comes with many helpful analytics libraries installed\n",
    "# It is defined by the kaggle/python Docker image: https://github.com/kaggle/docker-python\n",
    "# For example, here's several helpful packages to load\n",
    "\n",
    "import numpy as np # linear algebra\n",
    "import pandas as pd # data processing, CSV file I/O (e.g. pd.read_csv)\n",
    "\n",
    "# Input data files are available in the read-only \"../input/\" directory\n",
    "# For example, running this (by clicking run or pressing Shift+Enter) will list all files under the input directory\n",
    "\n",
    "import os\n",
    "for dirname, _, filenames in os.walk('/kaggle/input'):\n",
    "    for filename in filenames:\n",
    "        print(os.path.join(dirname, filename))\n",
    "\n",
    "# You can write up to 20GB to the current directory (/kaggle/working/) that gets preserved as output when you create a version using \"Save & Run All\" \n",
    "# You can also write temporary files to /kaggle/temp/, but they won't be saved outside of the current session"
   ]
  },
  {
   "cell_type": "code",
   "execution_count": 2,
   "id": "3499cdeb",
   "metadata": {
    "execution": {
     "iopub.execute_input": "2024-07-14T06:44:06.884027Z",
     "iopub.status.busy": "2024-07-14T06:44:06.883639Z",
     "iopub.status.idle": "2024-07-14T06:44:27.175583Z",
     "shell.execute_reply": "2024-07-14T06:44:27.174783Z"
    },
    "papermill": {
     "duration": 20.301519,
     "end_time": "2024-07-14T06:44:27.178071",
     "exception": false,
     "start_time": "2024-07-14T06:44:06.876552",
     "status": "completed"
    },
    "tags": []
   },
   "outputs": [],
   "source": [
    "sct=pd.read_csv('/kaggle/input/santander-customer-transaction-prediction/train.csv')\n",
    "sct_new=pd.read_csv('/kaggle/input/santander-customer-transaction-prediction/test.csv')"
   ]
  },
  {
   "cell_type": "code",
   "execution_count": 3,
   "id": "e2a3657b",
   "metadata": {
    "execution": {
     "iopub.execute_input": "2024-07-14T06:44:27.191853Z",
     "iopub.status.busy": "2024-07-14T06:44:27.191546Z",
     "iopub.status.idle": "2024-07-14T06:44:27.225109Z",
     "shell.execute_reply": "2024-07-14T06:44:27.224198Z"
    },
    "papermill": {
     "duration": 0.042469,
     "end_time": "2024-07-14T06:44:27.227117",
     "exception": false,
     "start_time": "2024-07-14T06:44:27.184648",
     "status": "completed"
    },
    "tags": []
   },
   "outputs": [
    {
     "name": "stdout",
     "output_type": "stream",
     "text": [
      "<class 'pandas.core.frame.DataFrame'>\n",
      "RangeIndex: 200000 entries, 0 to 199999\n",
      "Columns: 202 entries, ID_code to var_199\n",
      "dtypes: float64(200), int64(1), object(1)\n",
      "memory usage: 308.2+ MB\n"
     ]
    }
   ],
   "source": [
    "sct.info()"
   ]
  },
  {
   "cell_type": "code",
   "execution_count": 4,
   "id": "c8ff111f",
   "metadata": {
    "execution": {
     "iopub.execute_input": "2024-07-14T06:44:27.240669Z",
     "iopub.status.busy": "2024-07-14T06:44:27.240386Z",
     "iopub.status.idle": "2024-07-14T06:44:27.244896Z",
     "shell.execute_reply": "2024-07-14T06:44:27.244069Z"
    },
    "papermill": {
     "duration": 0.013532,
     "end_time": "2024-07-14T06:44:27.247046",
     "exception": false,
     "start_time": "2024-07-14T06:44:27.233514",
     "status": "completed"
    },
    "tags": []
   },
   "outputs": [
    {
     "name": "stdout",
     "output_type": "stream",
     "text": [
      "Index(['ID_code', 'target', 'var_0', 'var_1', 'var_2', 'var_3', 'var_4',\n",
      "       'var_5', 'var_6', 'var_7',\n",
      "       ...\n",
      "       'var_190', 'var_191', 'var_192', 'var_193', 'var_194', 'var_195',\n",
      "       'var_196', 'var_197', 'var_198', 'var_199'],\n",
      "      dtype='object', length=202)\n"
     ]
    }
   ],
   "source": [
    "print(sct.columns)"
   ]
  },
  {
   "cell_type": "code",
   "execution_count": 5,
   "id": "0bb2f75e",
   "metadata": {
    "execution": {
     "iopub.execute_input": "2024-07-14T06:44:27.260752Z",
     "iopub.status.busy": "2024-07-14T06:44:27.260163Z",
     "iopub.status.idle": "2024-07-14T06:44:27.270749Z",
     "shell.execute_reply": "2024-07-14T06:44:27.269907Z"
    },
    "papermill": {
     "duration": 0.019904,
     "end_time": "2024-07-14T06:44:27.273133",
     "exception": false,
     "start_time": "2024-07-14T06:44:27.253229",
     "status": "completed"
    },
    "tags": []
   },
   "outputs": [
    {
     "data": {
      "text/plain": [
       "target\n",
       "0    179902\n",
       "1     20098\n",
       "Name: count, dtype: int64"
      ]
     },
     "execution_count": 5,
     "metadata": {},
     "output_type": "execute_result"
    }
   ],
   "source": [
    "sct['target'].value_counts()"
   ]
  },
  {
   "cell_type": "code",
   "execution_count": 6,
   "id": "9a58e502",
   "metadata": {
    "execution": {
     "iopub.execute_input": "2024-07-14T06:44:27.287906Z",
     "iopub.status.busy": "2024-07-14T06:44:27.287612Z",
     "iopub.status.idle": "2024-07-14T06:44:27.425978Z",
     "shell.execute_reply": "2024-07-14T06:44:27.424965Z"
    },
    "papermill": {
     "duration": 0.147994,
     "end_time": "2024-07-14T06:44:27.428020",
     "exception": false,
     "start_time": "2024-07-14T06:44:27.280026",
     "status": "completed"
    },
    "tags": []
   },
   "outputs": [
    {
     "data": {
      "text/plain": [
       "ID_code\n",
       "train_199960    1\n",
       "train_199961    1\n",
       "train_199962    1\n",
       "train_199963    1\n",
       "train_199964    1\n",
       "               ..\n",
       "train_3         1\n",
       "train_4         1\n",
       "train_5         1\n",
       "train_6         1\n",
       "train_7         1\n",
       "Name: count, Length: 200000, dtype: int64"
      ]
     },
     "execution_count": 6,
     "metadata": {},
     "output_type": "execute_result"
    }
   ],
   "source": [
    "sct['ID_code'].value_counts()"
   ]
  },
  {
   "cell_type": "code",
   "execution_count": 7,
   "id": "60b309f3",
   "metadata": {
    "execution": {
     "iopub.execute_input": "2024-07-14T06:44:27.442812Z",
     "iopub.status.busy": "2024-07-14T06:44:27.442541Z",
     "iopub.status.idle": "2024-07-14T06:44:27.465277Z",
     "shell.execute_reply": "2024-07-14T06:44:27.464376Z"
    },
    "papermill": {
     "duration": 0.032288,
     "end_time": "2024-07-14T06:44:27.467316",
     "exception": false,
     "start_time": "2024-07-14T06:44:27.435028",
     "status": "completed"
    },
    "tags": []
   },
   "outputs": [
    {
     "data": {
      "text/plain": [
       "var_0\n",
       "13.0656    11\n",
       "8.6649     11\n",
       "10.6829    11\n",
       "9.5114     10\n",
       "10.9468    10\n",
       "           ..\n",
       "9.1800      1\n",
       "7.3502      1\n",
       "11.5106     1\n",
       "14.5987     1\n",
       "14.1869     1\n",
       "Name: count, Length: 94672, dtype: int64"
      ]
     },
     "execution_count": 7,
     "metadata": {},
     "output_type": "execute_result"
    }
   ],
   "source": [
    "sct['var_0'].value_counts()"
   ]
  },
  {
   "cell_type": "code",
   "execution_count": 8,
   "id": "7fb053ee",
   "metadata": {
    "execution": {
     "iopub.execute_input": "2024-07-14T06:44:27.481735Z",
     "iopub.status.busy": "2024-07-14T06:44:27.481456Z",
     "iopub.status.idle": "2024-07-14T06:44:27.501998Z",
     "shell.execute_reply": "2024-07-14T06:44:27.501148Z"
    },
    "papermill": {
     "duration": 0.030033,
     "end_time": "2024-07-14T06:44:27.504006",
     "exception": false,
     "start_time": "2024-07-14T06:44:27.473973",
     "status": "completed"
    },
    "tags": []
   },
   "outputs": [
    {
     "data": {
      "text/plain": [
       "var_1\n",
       "-2.4313    10\n",
       "-2.1515    10\n",
       "-1.1853    10\n",
       "-2.5753    10\n",
       "-7.2808     9\n",
       "           ..\n",
       " 0.6422     1\n",
       "-9.9800     1\n",
       " 2.6562     1\n",
       "-0.7863     1\n",
       "-7.9881     1\n",
       "Name: count, Length: 108932, dtype: int64"
      ]
     },
     "execution_count": 8,
     "metadata": {},
     "output_type": "execute_result"
    }
   ],
   "source": [
    "sct['var_1'].value_counts()"
   ]
  },
  {
   "cell_type": "code",
   "execution_count": 9,
   "id": "ff8f2670",
   "metadata": {
    "execution": {
     "iopub.execute_input": "2024-07-14T06:44:27.518618Z",
     "iopub.status.busy": "2024-07-14T06:44:27.518342Z",
     "iopub.status.idle": "2024-07-14T06:44:27.523972Z",
     "shell.execute_reply": "2024-07-14T06:44:27.523094Z"
    },
    "papermill": {
     "duration": 0.015059,
     "end_time": "2024-07-14T06:44:27.525840",
     "exception": false,
     "start_time": "2024-07-14T06:44:27.510781",
     "status": "completed"
    },
    "tags": []
   },
   "outputs": [
    {
     "data": {
      "text/plain": [
       "Index(['ID_code', 'var_0', 'var_1', 'var_2', 'var_3', 'var_4', 'var_5',\n",
       "       'var_6', 'var_7', 'var_8',\n",
       "       ...\n",
       "       'var_190', 'var_191', 'var_192', 'var_193', 'var_194', 'var_195',\n",
       "       'var_196', 'var_197', 'var_198', 'var_199'],\n",
       "      dtype='object', length=201)"
      ]
     },
     "execution_count": 9,
     "metadata": {},
     "output_type": "execute_result"
    }
   ],
   "source": [
    "sct_new.columns"
   ]
  },
  {
   "cell_type": "code",
   "execution_count": 10,
   "id": "f04e839a",
   "metadata": {
    "execution": {
     "iopub.execute_input": "2024-07-14T06:44:27.541424Z",
     "iopub.status.busy": "2024-07-14T06:44:27.541154Z",
     "iopub.status.idle": "2024-07-14T06:44:30.430066Z",
     "shell.execute_reply": "2024-07-14T06:44:30.429245Z"
    },
    "papermill": {
     "duration": 2.899593,
     "end_time": "2024-07-14T06:44:30.432752",
     "exception": false,
     "start_time": "2024-07-14T06:44:27.533159",
     "status": "completed"
    },
    "tags": []
   },
   "outputs": [],
   "source": [
    "from sklearn.model_selection import train_test_split\n",
    "from sklearn.preprocessing import StandardScaler\n",
    "y=sct[['target']]\n",
    "X=sct.drop(['target','ID_code'],axis=1)\n",
    "X_new=sct_new.drop(['ID_code'],axis=1)\n",
    "X_transformed=StandardScaler().fit_transform(X)\n",
    "X_new_transformed=StandardScaler().fit_transform(X_new)\n",
    "X_temp,X_val,y_temp,y_val=train_test_split(X_transformed,y,test_size=0.05,random_state=1)\n",
    "X_train,X_test,y_train,y_test=train_test_split(X_temp,y_temp,test_size=0.05,random_state=2)"
   ]
  },
  {
   "cell_type": "code",
   "execution_count": 11,
   "id": "ad873fc9",
   "metadata": {
    "execution": {
     "iopub.execute_input": "2024-07-14T06:44:30.452870Z",
     "iopub.status.busy": "2024-07-14T06:44:30.452441Z",
     "iopub.status.idle": "2024-07-14T06:44:42.365170Z",
     "shell.execute_reply": "2024-07-14T06:44:42.364325Z"
    },
    "papermill": {
     "duration": 11.926674,
     "end_time": "2024-07-14T06:44:42.367588",
     "exception": false,
     "start_time": "2024-07-14T06:44:30.440914",
     "status": "completed"
    },
    "tags": []
   },
   "outputs": [
    {
     "name": "stderr",
     "output_type": "stream",
     "text": [
      "2024-07-14 06:44:32.330253: E external/local_xla/xla/stream_executor/cuda/cuda_dnn.cc:9261] Unable to register cuDNN factory: Attempting to register factory for plugin cuDNN when one has already been registered\n",
      "2024-07-14 06:44:32.330397: E external/local_xla/xla/stream_executor/cuda/cuda_fft.cc:607] Unable to register cuFFT factory: Attempting to register factory for plugin cuFFT when one has already been registered\n",
      "2024-07-14 06:44:32.471351: E external/local_xla/xla/stream_executor/cuda/cuda_blas.cc:1515] Unable to register cuBLAS factory: Attempting to register factory for plugin cuBLAS when one has already been registered\n"
     ]
    }
   ],
   "source": [
    "import tensorflow as tf\n",
    "from tensorflow import keras\n",
    "from keras.layers import Input,Dense,Normalization\n",
    "from keras.optimizers import SGD,AdamW\n",
    "from keras.callbacks import EarlyStopping\n",
    "import keras_tuner as kt"
   ]
  },
  {
   "cell_type": "code",
   "execution_count": 12,
   "id": "69c1459d",
   "metadata": {
    "execution": {
     "iopub.execute_input": "2024-07-14T06:44:42.384205Z",
     "iopub.status.busy": "2024-07-14T06:44:42.383378Z",
     "iopub.status.idle": "2024-07-14T06:44:42.393041Z",
     "shell.execute_reply": "2024-07-14T06:44:42.392289Z"
    },
    "papermill": {
     "duration": 0.019856,
     "end_time": "2024-07-14T06:44:42.395012",
     "exception": false,
     "start_time": "2024-07-14T06:44:42.375156",
     "status": "completed"
    },
    "tags": []
   },
   "outputs": [],
   "source": [
    "def build_model(hp):\n",
    "    n_hidden = hp.Int(\"n_hidden\", min_value=10, max_value=100, default=50)\n",
    "    n_neurons = hp.Int(\"n_neurons\", min_value=16, max_value=256)\n",
    "    learning_rate = hp.Float(\"learning_rate\", min_value=1e-4, max_value=1e-2,sampling=\"log\")\n",
    "    weight_decay=hp.Float(\"weight_decay\", min_value=0.001, max_value=0.01,sampling=\"log\")\n",
    "    optimizer = hp.Choice(\"optimizer\", values=[\"nag\", \"adamw\"])\n",
    "    if optimizer == \"nag\":\n",
    "        optimizer = SGD(learning_rate=learning_rate,momentum=0.9,nesterov=True)\n",
    "    else:\n",
    "        optimizer = AdamW(learning_rate=learning_rate,weight_decay=weight_decay)        \n",
    "    model=keras.Sequential()\n",
    "    model.add(Input(shape=X_train.shape[1:]))\n",
    "    for _ in range(n_hidden):\n",
    "        model.add(Dense(n_neurons, activation=\"swish\",kernel_initializer='he_normal'))\n",
    "    model.add(Dense(1,activation='sigmoid'))\n",
    "    model.compile(loss=\"binary_crossentropy\", optimizer=optimizer,metrics=['accuracy'])\n",
    "    return model"
   ]
  },
  {
   "cell_type": "code",
   "execution_count": 13,
   "id": "7d9a03f4",
   "metadata": {
    "execution": {
     "iopub.execute_input": "2024-07-14T06:44:42.411109Z",
     "iopub.status.busy": "2024-07-14T06:44:42.410826Z",
     "iopub.status.idle": "2024-07-14T07:04:02.642399Z",
     "shell.execute_reply": "2024-07-14T07:04:02.641420Z"
    },
    "papermill": {
     "duration": 1160.245428,
     "end_time": "2024-07-14T07:04:02.647465",
     "exception": false,
     "start_time": "2024-07-14T06:44:42.402037",
     "status": "completed"
    },
    "tags": []
   },
   "outputs": [
    {
     "name": "stdout",
     "output_type": "stream",
     "text": [
      "Trial 5 Complete [00h 08m 02s]\n",
      "val_accuracy: 0.906000018119812\n",
      "\n",
      "Best val_accuracy So Far: 0.9205999970436096\n",
      "Total elapsed time: 00h 19m 18s\n"
     ]
    }
   ],
   "source": [
    "random_search=kt.RandomSearch(build_model,objective='val_accuracy',seed=3,max_trials=5)\n",
    "early_stopping = EarlyStopping(monitor='val_accuracy', patience=5, restore_best_weights=True)\n",
    "try: random_search.search(X_train,y_train,epochs=10,validation_data=(X_val,y_val),callbacks=[early_stopping])\n",
    "except kt.errors.FatalError: print(\"The search is terminated.\")"
   ]
  },
  {
   "cell_type": "code",
   "execution_count": 14,
   "id": "86955c6a",
   "metadata": {
    "execution": {
     "iopub.execute_input": "2024-07-14T07:04:02.664333Z",
     "iopub.status.busy": "2024-07-14T07:04:02.663560Z",
     "iopub.status.idle": "2024-07-14T07:04:08.331427Z",
     "shell.execute_reply": "2024-07-14T07:04:08.330405Z"
    },
    "papermill": {
     "duration": 5.678541,
     "end_time": "2024-07-14T07:04:08.333947",
     "exception": false,
     "start_time": "2024-07-14T07:04:02.655406",
     "status": "completed"
    },
    "tags": []
   },
   "outputs": [
    {
     "name": "stderr",
     "output_type": "stream",
     "text": [
      "/opt/conda/lib/python3.10/site-packages/keras/src/saving/saving_lib.py:576: UserWarning: Skipping variable loading for optimizer 'SGD', because it has 2 variables whereas the saved optimizer has 64 variables. \n",
      "  saveable.load_own_variables(weights_store.get(inner_path))\n",
      "/opt/conda/lib/python3.10/site-packages/keras/src/saving/saving_lib.py:576: UserWarning: Skipping variable loading for optimizer 'SGD', because it has 2 variables whereas the saved optimizer has 66 variables. \n",
      "  saveable.load_own_variables(weights_store.get(inner_path))\n"
     ]
    },
    {
     "name": "stdout",
     "output_type": "stream",
     "text": [
      "<Sequential name=sequential, built=True>\n"
     ]
    },
    {
     "name": "stderr",
     "output_type": "stream",
     "text": [
      "/opt/conda/lib/python3.10/site-packages/keras/src/saving/saving_lib.py:576: UserWarning: Skipping variable loading for optimizer 'adamw', because it has 2 variables whereas the saved optimizer has 138 variables. \n",
      "  saveable.load_own_variables(weights_store.get(inner_path))\n"
     ]
    }
   ],
   "source": [
    "best_model=random_search.get_best_models(3)[0]\n",
    "print(best_model)"
   ]
  },
  {
   "cell_type": "code",
   "execution_count": 15,
   "id": "ef1915b6",
   "metadata": {
    "execution": {
     "iopub.execute_input": "2024-07-14T07:04:08.350576Z",
     "iopub.status.busy": "2024-07-14T07:04:08.350270Z",
     "iopub.status.idle": "2024-07-14T07:04:08.355187Z",
     "shell.execute_reply": "2024-07-14T07:04:08.354232Z"
    },
    "papermill": {
     "duration": 0.015753,
     "end_time": "2024-07-14T07:04:08.357482",
     "exception": false,
     "start_time": "2024-07-14T07:04:08.341729",
     "status": "completed"
    },
    "tags": []
   },
   "outputs": [
    {
     "name": "stdout",
     "output_type": "stream",
     "text": [
      "{'n_hidden': 30, 'n_neurons': 127, 'learning_rate': 0.0013893292827173778, 'weight_decay': 0.0028338675844960712, 'optimizer': 'nag'}\n"
     ]
    }
   ],
   "source": [
    "best_hyper=random_search.get_best_hyperparameters(3)[0]\n",
    "print(best_hyper.values)"
   ]
  },
  {
   "cell_type": "code",
   "execution_count": 16,
   "id": "077bb916",
   "metadata": {
    "execution": {
     "iopub.execute_input": "2024-07-14T07:04:08.373755Z",
     "iopub.status.busy": "2024-07-14T07:04:08.373474Z",
     "iopub.status.idle": "2024-07-14T07:04:08.378429Z",
     "shell.execute_reply": "2024-07-14T07:04:08.377360Z"
    },
    "papermill": {
     "duration": 0.015484,
     "end_time": "2024-07-14T07:04:08.380376",
     "exception": false,
     "start_time": "2024-07-14T07:04:08.364892",
     "status": "completed"
    },
    "tags": []
   },
   "outputs": [
    {
     "name": "stdout",
     "output_type": "stream",
     "text": [
      "Trial 1 summary\n",
      "Hyperparameters:\n",
      "n_hidden: 30\n",
      "n_neurons: 127\n",
      "learning_rate: 0.0013893292827173778\n",
      "weight_decay: 0.0028338675844960712\n",
      "optimizer: nag\n",
      "Score: 0.9205999970436096\n"
     ]
    }
   ],
   "source": [
    "best_trial = random_search.oracle.get_best_trials(num_trials=1)[0]\n",
    "best_trial.summary()"
   ]
  },
  {
   "cell_type": "code",
   "execution_count": 17,
   "id": "2de440a1",
   "metadata": {
    "execution": {
     "iopub.execute_input": "2024-07-14T07:04:08.396637Z",
     "iopub.status.busy": "2024-07-14T07:04:08.396336Z",
     "iopub.status.idle": "2024-07-14T07:04:39.312951Z",
     "shell.execute_reply": "2024-07-14T07:04:39.311956Z"
    },
    "papermill": {
     "duration": 30.926977,
     "end_time": "2024-07-14T07:04:39.314930",
     "exception": false,
     "start_time": "2024-07-14T07:04:08.387953",
     "status": "completed"
    },
    "tags": []
   },
   "outputs": [
    {
     "name": "stdout",
     "output_type": "stream",
     "text": [
      "\u001b[1m5641/5641\u001b[0m \u001b[32m━━━━━━━━━━━━━━━━━━━━\u001b[0m\u001b[37m\u001b[0m \u001b[1m30s\u001b[0m 4ms/step - accuracy: 0.9162 - loss: 0.2234 - val_accuracy: 0.9198 - val_loss: 0.2236\n"
     ]
    },
    {
     "data": {
      "text/plain": [
       "<keras.src.callbacks.history.History at 0x7cba4029e470>"
      ]
     },
     "execution_count": 17,
     "metadata": {},
     "output_type": "execute_result"
    }
   ],
   "source": [
    "best_model.fit(X_train,y_train,callbacks=[early_stopping],validation_data=(X_val,y_val))"
   ]
  },
  {
   "cell_type": "code",
   "execution_count": 18,
   "id": "47e38589",
   "metadata": {
    "execution": {
     "iopub.execute_input": "2024-07-14T07:04:39.392983Z",
     "iopub.status.busy": "2024-07-14T07:04:39.392669Z",
     "iopub.status.idle": "2024-07-14T07:04:40.666802Z",
     "shell.execute_reply": "2024-07-14T07:04:40.665893Z"
    },
    "papermill": {
     "duration": 1.31522,
     "end_time": "2024-07-14T07:04:40.668753",
     "exception": false,
     "start_time": "2024-07-14T07:04:39.353533",
     "status": "completed"
    },
    "tags": []
   },
   "outputs": [
    {
     "name": "stdout",
     "output_type": "stream",
     "text": [
      "\u001b[1m297/297\u001b[0m \u001b[32m━━━━━━━━━━━━━━━━━━━━\u001b[0m\u001b[37m\u001b[0m \u001b[1m1s\u001b[0m 4ms/step - accuracy: 0.9147 - loss: 0.2276\n"
     ]
    },
    {
     "data": {
      "text/plain": [
       "[0.22486993670463562, 0.9153684377670288]"
      ]
     },
     "execution_count": 18,
     "metadata": {},
     "output_type": "execute_result"
    }
   ],
   "source": [
    "best_model.evaluate(X_test,y_test)"
   ]
  },
  {
   "cell_type": "code",
   "execution_count": 19,
   "id": "2caa01ed",
   "metadata": {
    "execution": {
     "iopub.execute_input": "2024-07-14T07:04:40.748503Z",
     "iopub.status.busy": "2024-07-14T07:04:40.748199Z",
     "iopub.status.idle": "2024-07-14T07:04:59.367777Z",
     "shell.execute_reply": "2024-07-14T07:04:59.366657Z"
    },
    "papermill": {
     "duration": 18.662185,
     "end_time": "2024-07-14T07:04:59.370401",
     "exception": false,
     "start_time": "2024-07-14T07:04:40.708216",
     "status": "completed"
    },
    "tags": []
   },
   "outputs": [
    {
     "name": "stdout",
     "output_type": "stream",
     "text": [
      "\u001b[1m6250/6250\u001b[0m \u001b[32m━━━━━━━━━━━━━━━━━━━━\u001b[0m\u001b[37m\u001b[0m \u001b[1m14s\u001b[0m 2ms/step\n"
     ]
    }
   ],
   "source": [
    "y_pred=best_model.predict(X_new_transformed)"
   ]
  },
  {
   "cell_type": "code",
   "execution_count": 20,
   "id": "a5ca6901",
   "metadata": {
    "execution": {
     "iopub.execute_input": "2024-07-14T07:04:59.494930Z",
     "iopub.status.busy": "2024-07-14T07:04:59.494000Z",
     "iopub.status.idle": "2024-07-14T07:04:59.499543Z",
     "shell.execute_reply": "2024-07-14T07:04:59.498566Z"
    },
    "papermill": {
     "duration": 0.069701,
     "end_time": "2024-07-14T07:04:59.502426",
     "exception": false,
     "start_time": "2024-07-14T07:04:59.432725",
     "status": "completed"
    },
    "tags": []
   },
   "outputs": [
    {
     "name": "stdout",
     "output_type": "stream",
     "text": [
      "[[0.19363049]\n",
      " [0.18561111]\n",
      " [0.01434319]\n",
      " [0.20667405]\n",
      " [0.02217208]\n",
      " [0.0083749 ]\n",
      " [0.0096695 ]\n",
      " [0.16392371]\n",
      " [0.00842532]\n",
      " [0.00909868]]\n"
     ]
    }
   ],
   "source": [
    "print(y_pred[:10])"
   ]
  },
  {
   "cell_type": "code",
   "execution_count": 21,
   "id": "9d3fa180",
   "metadata": {
    "execution": {
     "iopub.execute_input": "2024-07-14T07:04:59.631232Z",
     "iopub.status.busy": "2024-07-14T07:04:59.630830Z",
     "iopub.status.idle": "2024-07-14T07:05:00.109942Z",
     "shell.execute_reply": "2024-07-14T07:05:00.109175Z"
    },
    "papermill": {
     "duration": 0.542908,
     "end_time": "2024-07-14T07:05:00.112204",
     "exception": false,
     "start_time": "2024-07-14T07:04:59.569296",
     "status": "completed"
    },
    "tags": []
   },
   "outputs": [],
   "source": [
    "output=pd.DataFrame({'Id':sct_new.ID_code,'target':y_pred.ravel()})\n",
    "output.to_csv('sct_submission.csv',index=False)"
   ]
  },
  {
   "cell_type": "code",
   "execution_count": null,
   "id": "eb4d9742",
   "metadata": {
    "papermill": {
     "duration": 0.059984,
     "end_time": "2024-07-14T07:05:00.233192",
     "exception": false,
     "start_time": "2024-07-14T07:05:00.173208",
     "status": "completed"
    },
    "tags": []
   },
   "outputs": [],
   "source": []
  }
 ],
 "metadata": {
  "kaggle": {
   "accelerator": "gpu",
   "dataSources": [
    {
     "databundleVersionId": 298493,
     "sourceId": 10385,
     "sourceType": "competition"
    }
   ],
   "dockerImageVersionId": 30748,
   "isGpuEnabled": true,
   "isInternetEnabled": true,
   "language": "python",
   "sourceType": "notebook"
  },
  "kernelspec": {
   "display_name": "Python 3",
   "language": "python",
   "name": "python3"
  },
  "language_info": {
   "codemirror_mode": {
    "name": "ipython",
    "version": 3
   },
   "file_extension": ".py",
   "mimetype": "text/x-python",
   "name": "python",
   "nbconvert_exporter": "python",
   "pygments_lexer": "ipython3",
   "version": "3.10.13"
  },
  "papermill": {
   "default_parameters": {},
   "duration": 1260.762707,
   "end_time": "2024-07-14T07:05:04.033684",
   "environment_variables": {},
   "exception": null,
   "input_path": "__notebook__.ipynb",
   "output_path": "__notebook__.ipynb",
   "parameters": {},
   "start_time": "2024-07-14T06:44:03.270977",
   "version": "2.5.0"
  }
 },
 "nbformat": 4,
 "nbformat_minor": 5
}
